{
 "cells": [
  {
   "cell_type": "code",
   "execution_count": 1,
   "metadata": {},
   "outputs": [
    {
     "name": "stdout",
     "output_type": "stream",
     "text": [
      "   subject_id               timestamp m_activity\n",
      "0           5 2023-11-05 00:00:39.044          3\n",
      "1           5 2023-11-05 00:01:39.044          3\n",
      "2           5 2023-11-05 00:02:39.044          3\n",
      "3           5 2023-11-05 00:03:39.043          3\n",
      "4           5 2023-11-05 00:04:39.044          3\n"
     ]
    }
   ],
   "source": [
    "import pandas as pd\n",
    "\n",
    "# 파일 경로를 지정합니다.\n",
    "file_path = 'C:\\\\Users\\\\ljy25\\\\etri\\\\data\\\\휴먼이해2024\\\\test dataset\\\\ch2024_test_m_activity.parquet.gzip'\n",
    "\n",
    "# .parquet.gzip 파일을 읽습니다.\n",
    "df = pd.read_parquet(file_path, engine='pyarrow')\n",
    "\n",
    "# 데이터프레임의 내용을 출력합니다.\n",
    "print(df.head())"
   ]
  },
  {
   "cell_type": "code",
   "execution_count": 2,
   "metadata": {},
   "outputs": [
    {
     "name": "stdout",
     "output_type": "stream",
     "text": [
      "   subject_id               timestamp         x         y         z\n",
      "0           5 2023-11-05 00:00:00.022 -0.088585  0.105345  9.749489\n",
      "1           5 2023-11-05 00:00:00.039 -0.067038  0.112527  9.742306\n",
      "2           5 2023-11-05 00:00:00.136 -0.071826  0.100556  9.742306\n",
      "3           5 2023-11-05 00:00:00.202 -0.059855  0.081403  9.672874\n",
      "4           5 2023-11-05 00:00:00.218 -0.083797  0.110133  9.720758\n"
     ]
    }
   ],
   "source": [
    "import pandas as pd\n",
    "\n",
    "# 파일 경로를 지정합니다.\n",
    "file_path = 'C:\\\\Users\\\\ljy25\\\\etri\\\\data\\\\휴먼이해2024\\\\test dataset\\\\ch2024_test__m_acc_part_5.parquet.gzip'\n",
    "\n",
    "# .parquet.gzip 파일을 읽습니다.\n",
    "df = pd.read_parquet(file_path, engine='pyarrow')\n",
    "\n",
    "# 데이터프레임의 내용을 출력합니다.\n",
    "print(df.head())"
   ]
  },
  {
   "cell_type": "code",
   "execution_count": 3,
   "metadata": {},
   "outputs": [
    {
     "name": "stdout",
     "output_type": "stream",
     "text": [
      "   subject_id           timestamp  m_light\n",
      "0           5 2023-11-05 00:09:00    208.0\n",
      "1           5 2023-11-05 00:19:00    212.0\n",
      "2           5 2023-11-05 00:29:00    211.0\n",
      "3           5 2023-11-05 00:39:00    194.0\n",
      "4           5 2023-11-05 00:49:00    214.0\n"
     ]
    }
   ],
   "source": [
    "# 파일 경로를 지정합니다.\n",
    "file_path = 'C:\\\\Users\\\\ljy25\\\\etri\\\\data\\\\휴먼이해2024\\\\test dataset\\\\ch2024_test_m_light.parquet.gzip'\n",
    "\n",
    "# .parquet.gzip 파일을 읽습니다.\n",
    "df = pd.read_parquet(file_path, engine='pyarrow')\n",
    "\n",
    "# 데이터프레임의 내용을 출력합니다.\n",
    "print(df.head())"
   ]
  },
  {
   "cell_type": "code",
   "execution_count": 4,
   "metadata": {},
   "outputs": [
    {
     "data": {
      "text/html": [
       "<div>\n",
       "<style scoped>\n",
       "    .dataframe tbody tr th:only-of-type {\n",
       "        vertical-align: middle;\n",
       "    }\n",
       "\n",
       "    .dataframe tbody tr th {\n",
       "        vertical-align: top;\n",
       "    }\n",
       "\n",
       "    .dataframe thead th {\n",
       "        text-align: right;\n",
       "    }\n",
       "</style>\n",
       "<table border=\"1\" class=\"dataframe\">\n",
       "  <thead>\n",
       "    <tr style=\"text-align: right;\">\n",
       "      <th></th>\n",
       "      <th>subject_id</th>\n",
       "      <th>timestamp</th>\n",
       "      <th>m_light</th>\n",
       "    </tr>\n",
       "  </thead>\n",
       "  <tbody>\n",
       "    <tr>\n",
       "      <th>0</th>\n",
       "      <td>5</td>\n",
       "      <td>2023-11-05 00:09:00</td>\n",
       "      <td>208.0</td>\n",
       "    </tr>\n",
       "    <tr>\n",
       "      <th>1</th>\n",
       "      <td>5</td>\n",
       "      <td>2023-11-05 00:19:00</td>\n",
       "      <td>212.0</td>\n",
       "    </tr>\n",
       "    <tr>\n",
       "      <th>2</th>\n",
       "      <td>5</td>\n",
       "      <td>2023-11-05 00:29:00</td>\n",
       "      <td>211.0</td>\n",
       "    </tr>\n",
       "    <tr>\n",
       "      <th>3</th>\n",
       "      <td>5</td>\n",
       "      <td>2023-11-05 00:39:00</td>\n",
       "      <td>194.0</td>\n",
       "    </tr>\n",
       "    <tr>\n",
       "      <th>4</th>\n",
       "      <td>5</td>\n",
       "      <td>2023-11-05 00:49:00</td>\n",
       "      <td>214.0</td>\n",
       "    </tr>\n",
       "    <tr>\n",
       "      <th>...</th>\n",
       "      <td>...</td>\n",
       "      <td>...</td>\n",
       "      <td>...</td>\n",
       "    </tr>\n",
       "    <tr>\n",
       "      <th>16274</th>\n",
       "      <td>8</td>\n",
       "      <td>2023-11-09 23:22:00</td>\n",
       "      <td>0.0</td>\n",
       "    </tr>\n",
       "    <tr>\n",
       "      <th>16275</th>\n",
       "      <td>8</td>\n",
       "      <td>2023-11-09 23:29:00</td>\n",
       "      <td>18.0</td>\n",
       "    </tr>\n",
       "    <tr>\n",
       "      <th>16276</th>\n",
       "      <td>8</td>\n",
       "      <td>2023-11-09 23:39:00</td>\n",
       "      <td>107.0</td>\n",
       "    </tr>\n",
       "    <tr>\n",
       "      <th>16277</th>\n",
       "      <td>8</td>\n",
       "      <td>2023-11-09 23:49:00</td>\n",
       "      <td>107.0</td>\n",
       "    </tr>\n",
       "    <tr>\n",
       "      <th>16278</th>\n",
       "      <td>8</td>\n",
       "      <td>2023-11-09 23:59:00</td>\n",
       "      <td>108.0</td>\n",
       "    </tr>\n",
       "  </tbody>\n",
       "</table>\n",
       "<p>16279 rows × 3 columns</p>\n",
       "</div>"
      ],
      "text/plain": [
       "       subject_id           timestamp  m_light\n",
       "0               5 2023-11-05 00:09:00    208.0\n",
       "1               5 2023-11-05 00:19:00    212.0\n",
       "2               5 2023-11-05 00:29:00    211.0\n",
       "3               5 2023-11-05 00:39:00    194.0\n",
       "4               5 2023-11-05 00:49:00    214.0\n",
       "...           ...                 ...      ...\n",
       "16274           8 2023-11-09 23:22:00      0.0\n",
       "16275           8 2023-11-09 23:29:00     18.0\n",
       "16276           8 2023-11-09 23:39:00    107.0\n",
       "16277           8 2023-11-09 23:49:00    107.0\n",
       "16278           8 2023-11-09 23:59:00    108.0\n",
       "\n",
       "[16279 rows x 3 columns]"
      ]
     },
     "execution_count": 4,
     "metadata": {},
     "output_type": "execute_result"
    }
   ],
   "source": [
    "df"
   ]
  },
  {
   "cell_type": "code",
   "execution_count": null,
   "metadata": {},
   "outputs": [],
   "source": []
  }
 ],
 "metadata": {
  "kernelspec": {
   "display_name": "etri",
   "language": "python",
   "name": "python3"
  },
  "language_info": {
   "codemirror_mode": {
    "name": "ipython",
    "version": 3
   },
   "file_extension": ".py",
   "mimetype": "text/x-python",
   "name": "python",
   "nbconvert_exporter": "python",
   "pygments_lexer": "ipython3",
   "version": "3.8.19"
  }
 },
 "nbformat": 4,
 "nbformat_minor": 2
}
