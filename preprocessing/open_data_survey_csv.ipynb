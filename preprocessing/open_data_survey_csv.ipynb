{
 "cells": [
  {
   "cell_type": "code",
   "execution_count": 1,
   "metadata": {},
   "outputs": [],
   "source": [
    "import numpy as np\n",
    "import pandas as pd\n",
    "import matplotlib.pyplot as plt"
   ]
  },
  {
   "cell_type": "code",
   "execution_count": 2,
   "metadata": {},
   "outputs": [
    {
     "data": {
      "text/html": [
       "<div>\n",
       "<style scoped>\n",
       "    .dataframe tbody tr th:only-of-type {\n",
       "        vertical-align: middle;\n",
       "    }\n",
       "\n",
       "    .dataframe tbody tr th {\n",
       "        vertical-align: top;\n",
       "    }\n",
       "\n",
       "    .dataframe thead th {\n",
       "        text-align: right;\n",
       "    }\n",
       "</style>\n",
       "<table border=\"1\" class=\"dataframe\">\n",
       "  <thead>\n",
       "    <tr style=\"text-align: right;\">\n",
       "      <th></th>\n",
       "      <th>userId</th>\n",
       "      <th>date</th>\n",
       "      <th>amPm</th>\n",
       "      <th>startInput</th>\n",
       "      <th>endInput</th>\n",
       "      <th>sleep</th>\n",
       "      <th>sleepProblem</th>\n",
       "      <th>dream</th>\n",
       "      <th>amCondition</th>\n",
       "      <th>amEmotion</th>\n",
       "      <th>pmEmotion</th>\n",
       "      <th>pmStress</th>\n",
       "      <th>pmFatigue</th>\n",
       "      <th>caffeine</th>\n",
       "      <th>cAmount(ml)</th>\n",
       "      <th>alcohol</th>\n",
       "      <th>aAmount(ml)</th>\n",
       "    </tr>\n",
       "  </thead>\n",
       "  <tbody>\n",
       "    <tr>\n",
       "      <th>0</th>\n",
       "      <td>user24</td>\n",
       "      <td>2020-08-29</td>\n",
       "      <td>am</td>\n",
       "      <td>2020-08-29 21:23</td>\n",
       "      <td>2020-08-29 21:23</td>\n",
       "      <td>4.0</td>\n",
       "      <td>0.0</td>\n",
       "      <td>3.0</td>\n",
       "      <td>3.0</td>\n",
       "      <td>4.0</td>\n",
       "      <td>NaN</td>\n",
       "      <td>NaN</td>\n",
       "      <td>NaN</td>\n",
       "      <td>NaN</td>\n",
       "      <td>NaN</td>\n",
       "      <td>NaN</td>\n",
       "      <td>NaN</td>\n",
       "    </tr>\n",
       "    <tr>\n",
       "      <th>1</th>\n",
       "      <td>user24</td>\n",
       "      <td>2020-08-29</td>\n",
       "      <td>pm</td>\n",
       "      <td>2020-08-29 21:23</td>\n",
       "      <td>2020-08-29 21:23</td>\n",
       "      <td>NaN</td>\n",
       "      <td>NaN</td>\n",
       "      <td>NaN</td>\n",
       "      <td>NaN</td>\n",
       "      <td>NaN</td>\n",
       "      <td>4.0</td>\n",
       "      <td>4.0</td>\n",
       "      <td>2.0</td>\n",
       "      <td>NaN</td>\n",
       "      <td>NaN</td>\n",
       "      <td>NaN</td>\n",
       "      <td>NaN</td>\n",
       "    </tr>\n",
       "    <tr>\n",
       "      <th>2</th>\n",
       "      <td>user24</td>\n",
       "      <td>2020-08-30</td>\n",
       "      <td>am</td>\n",
       "      <td>2020-08-30 7:41</td>\n",
       "      <td>2020-08-30 7:41</td>\n",
       "      <td>3.0</td>\n",
       "      <td>2.0</td>\n",
       "      <td>2.0</td>\n",
       "      <td>2.0</td>\n",
       "      <td>3.0</td>\n",
       "      <td>NaN</td>\n",
       "      <td>NaN</td>\n",
       "      <td>NaN</td>\n",
       "      <td>NaN</td>\n",
       "      <td>NaN</td>\n",
       "      <td>NaN</td>\n",
       "      <td>NaN</td>\n",
       "    </tr>\n",
       "    <tr>\n",
       "      <th>3</th>\n",
       "      <td>user24</td>\n",
       "      <td>2020-08-30</td>\n",
       "      <td>pm</td>\n",
       "      <td>2020-08-30 22:43</td>\n",
       "      <td>2020-08-30 22:43</td>\n",
       "      <td>NaN</td>\n",
       "      <td>NaN</td>\n",
       "      <td>NaN</td>\n",
       "      <td>NaN</td>\n",
       "      <td>NaN</td>\n",
       "      <td>4.0</td>\n",
       "      <td>5.0</td>\n",
       "      <td>2.0</td>\n",
       "      <td>coffee</td>\n",
       "      <td>200.0</td>\n",
       "      <td>NaN</td>\n",
       "      <td>NaN</td>\n",
       "    </tr>\n",
       "    <tr>\n",
       "      <th>4</th>\n",
       "      <td>user24</td>\n",
       "      <td>2020-08-31</td>\n",
       "      <td>am</td>\n",
       "      <td>2020-08-31 7:23</td>\n",
       "      <td>2020-08-31 7:24</td>\n",
       "      <td>3.0</td>\n",
       "      <td>2.0</td>\n",
       "      <td>2.0</td>\n",
       "      <td>3.0</td>\n",
       "      <td>3.0</td>\n",
       "      <td>NaN</td>\n",
       "      <td>NaN</td>\n",
       "      <td>NaN</td>\n",
       "      <td>NaN</td>\n",
       "      <td>NaN</td>\n",
       "      <td>NaN</td>\n",
       "      <td>NaN</td>\n",
       "    </tr>\n",
       "    <tr>\n",
       "      <th>...</th>\n",
       "      <td>...</td>\n",
       "      <td>...</td>\n",
       "      <td>...</td>\n",
       "      <td>...</td>\n",
       "      <td>...</td>\n",
       "      <td>...</td>\n",
       "      <td>...</td>\n",
       "      <td>...</td>\n",
       "      <td>...</td>\n",
       "      <td>...</td>\n",
       "      <td>...</td>\n",
       "      <td>...</td>\n",
       "      <td>...</td>\n",
       "      <td>...</td>\n",
       "      <td>...</td>\n",
       "      <td>...</td>\n",
       "      <td>...</td>\n",
       "    </tr>\n",
       "    <tr>\n",
       "      <th>1225</th>\n",
       "      <td>user06</td>\n",
       "      <td>2020-10-06</td>\n",
       "      <td>pm</td>\n",
       "      <td>2020-10-07 0:07</td>\n",
       "      <td>2020-10-07 0:08</td>\n",
       "      <td>NaN</td>\n",
       "      <td>NaN</td>\n",
       "      <td>NaN</td>\n",
       "      <td>NaN</td>\n",
       "      <td>NaN</td>\n",
       "      <td>4.0</td>\n",
       "      <td>4.0</td>\n",
       "      <td>4.0</td>\n",
       "      <td>NaN</td>\n",
       "      <td>NaN</td>\n",
       "      <td>NaN</td>\n",
       "      <td>NaN</td>\n",
       "    </tr>\n",
       "    <tr>\n",
       "      <th>1226</th>\n",
       "      <td>user06</td>\n",
       "      <td>2020-10-07</td>\n",
       "      <td>am</td>\n",
       "      <td>2020-10-07 8:02</td>\n",
       "      <td>2020-10-07 8:05</td>\n",
       "      <td>2.0</td>\n",
       "      <td>9.0</td>\n",
       "      <td>4.0</td>\n",
       "      <td>2.0</td>\n",
       "      <td>3.0</td>\n",
       "      <td>NaN</td>\n",
       "      <td>NaN</td>\n",
       "      <td>NaN</td>\n",
       "      <td>NaN</td>\n",
       "      <td>NaN</td>\n",
       "      <td>NaN</td>\n",
       "      <td>NaN</td>\n",
       "    </tr>\n",
       "    <tr>\n",
       "      <th>1227</th>\n",
       "      <td>user06</td>\n",
       "      <td>2020-10-07</td>\n",
       "      <td>pm</td>\n",
       "      <td>2020-10-08 1:57</td>\n",
       "      <td>2020-10-08 1:57</td>\n",
       "      <td>NaN</td>\n",
       "      <td>NaN</td>\n",
       "      <td>NaN</td>\n",
       "      <td>NaN</td>\n",
       "      <td>NaN</td>\n",
       "      <td>5.0</td>\n",
       "      <td>2.0</td>\n",
       "      <td>3.0</td>\n",
       "      <td>coffee</td>\n",
       "      <td>250.0</td>\n",
       "      <td>NaN</td>\n",
       "      <td>NaN</td>\n",
       "    </tr>\n",
       "    <tr>\n",
       "      <th>1228</th>\n",
       "      <td>user06</td>\n",
       "      <td>2020-10-08</td>\n",
       "      <td>am</td>\n",
       "      <td>2020-10-08 8:23</td>\n",
       "      <td>2020-10-08 8:24</td>\n",
       "      <td>3.0</td>\n",
       "      <td>0.0</td>\n",
       "      <td>4.0</td>\n",
       "      <td>2.0</td>\n",
       "      <td>2.0</td>\n",
       "      <td>NaN</td>\n",
       "      <td>NaN</td>\n",
       "      <td>NaN</td>\n",
       "      <td>NaN</td>\n",
       "      <td>NaN</td>\n",
       "      <td>NaN</td>\n",
       "      <td>NaN</td>\n",
       "    </tr>\n",
       "    <tr>\n",
       "      <th>1229</th>\n",
       "      <td>user06</td>\n",
       "      <td>2020-10-08</td>\n",
       "      <td>pm</td>\n",
       "      <td>2020-10-08 23:30</td>\n",
       "      <td>2020-10-08 23:31</td>\n",
       "      <td>NaN</td>\n",
       "      <td>NaN</td>\n",
       "      <td>NaN</td>\n",
       "      <td>NaN</td>\n",
       "      <td>NaN</td>\n",
       "      <td>3.0</td>\n",
       "      <td>2.0</td>\n",
       "      <td>2.0</td>\n",
       "      <td>coffee</td>\n",
       "      <td>300.0</td>\n",
       "      <td>NaN</td>\n",
       "      <td>NaN</td>\n",
       "    </tr>\n",
       "  </tbody>\n",
       "</table>\n",
       "<p>1230 rows × 17 columns</p>\n",
       "</div>"
      ],
      "text/plain": [
       "      userId        date amPm        startInput          endInput  sleep  \\\n",
       "0     user24  2020-08-29   am  2020-08-29 21:23  2020-08-29 21:23    4.0   \n",
       "1     user24  2020-08-29   pm  2020-08-29 21:23  2020-08-29 21:23    NaN   \n",
       "2     user24  2020-08-30   am   2020-08-30 7:41   2020-08-30 7:41    3.0   \n",
       "3     user24  2020-08-30   pm  2020-08-30 22:43  2020-08-30 22:43    NaN   \n",
       "4     user24  2020-08-31   am   2020-08-31 7:23   2020-08-31 7:24    3.0   \n",
       "...      ...         ...  ...               ...               ...    ...   \n",
       "1225  user06  2020-10-06   pm   2020-10-07 0:07   2020-10-07 0:08    NaN   \n",
       "1226  user06  2020-10-07   am   2020-10-07 8:02   2020-10-07 8:05    2.0   \n",
       "1227  user06  2020-10-07   pm   2020-10-08 1:57   2020-10-08 1:57    NaN   \n",
       "1228  user06  2020-10-08   am   2020-10-08 8:23   2020-10-08 8:24    3.0   \n",
       "1229  user06  2020-10-08   pm  2020-10-08 23:30  2020-10-08 23:31    NaN   \n",
       "\n",
       "      sleepProblem  dream  amCondition  amEmotion  pmEmotion  pmStress  \\\n",
       "0              0.0    3.0          3.0        4.0        NaN       NaN   \n",
       "1              NaN    NaN          NaN        NaN        4.0       4.0   \n",
       "2              2.0    2.0          2.0        3.0        NaN       NaN   \n",
       "3              NaN    NaN          NaN        NaN        4.0       5.0   \n",
       "4              2.0    2.0          3.0        3.0        NaN       NaN   \n",
       "...            ...    ...          ...        ...        ...       ...   \n",
       "1225           NaN    NaN          NaN        NaN        4.0       4.0   \n",
       "1226           9.0    4.0          2.0        3.0        NaN       NaN   \n",
       "1227           NaN    NaN          NaN        NaN        5.0       2.0   \n",
       "1228           0.0    4.0          2.0        2.0        NaN       NaN   \n",
       "1229           NaN    NaN          NaN        NaN        3.0       2.0   \n",
       "\n",
       "      pmFatigue caffeine  cAmount(ml) alcohol  aAmount(ml)  \n",
       "0           NaN      NaN          NaN     NaN          NaN  \n",
       "1           2.0      NaN          NaN     NaN          NaN  \n",
       "2           NaN      NaN          NaN     NaN          NaN  \n",
       "3           2.0   coffee        200.0     NaN          NaN  \n",
       "4           NaN      NaN          NaN     NaN          NaN  \n",
       "...         ...      ...          ...     ...          ...  \n",
       "1225        4.0      NaN          NaN     NaN          NaN  \n",
       "1226        NaN      NaN          NaN     NaN          NaN  \n",
       "1227        3.0   coffee        250.0     NaN          NaN  \n",
       "1228        NaN      NaN          NaN     NaN          NaN  \n",
       "1229        2.0   coffee        300.0     NaN          NaN  \n",
       "\n",
       "[1230 rows x 17 columns]"
      ]
     },
     "execution_count": 2,
     "metadata": {},
     "output_type": "execute_result"
    }
   ],
   "source": [
    "user_survey_2020 = pd.read_csv(\"C:\\\\Users\\\\ljy25\\\\etri\\\\data\\\\user_survey_2020.csv\")\n",
    "user_survey_2020"
   ]
  },
  {
   "cell_type": "code",
   "execution_count": 3,
   "metadata": {},
   "outputs": [
    {
     "name": "stdout",
     "output_type": "stream",
     "text": [
      "<class 'pandas.core.frame.DataFrame'>\n",
      "RangeIndex: 1230 entries, 0 to 1229\n",
      "Data columns (total 17 columns):\n",
      " #   Column        Non-Null Count  Dtype  \n",
      "---  ------        --------------  -----  \n",
      " 0   userId        1230 non-null   object \n",
      " 1   date          1230 non-null   object \n",
      " 2   amPm          1230 non-null   object \n",
      " 3   startInput    1230 non-null   object \n",
      " 4   endInput      1230 non-null   object \n",
      " 5   sleep         615 non-null    float64\n",
      " 6   sleepProblem  615 non-null    float64\n",
      " 7   dream         615 non-null    float64\n",
      " 8   amCondition   615 non-null    float64\n",
      " 9   amEmotion     615 non-null    float64\n",
      " 10  pmEmotion     615 non-null    float64\n",
      " 11  pmStress      615 non-null    float64\n",
      " 12  pmFatigue     615 non-null    float64\n",
      " 13  caffeine      282 non-null    object \n",
      " 14  cAmount(ml)   282 non-null    float64\n",
      " 15  alcohol       114 non-null    object \n",
      " 16  aAmount(ml)   113 non-null    float64\n",
      "dtypes: float64(10), object(7)\n",
      "memory usage: 163.5+ KB\n"
     ]
    }
   ],
   "source": [
    "user_survey_2020.info()"
   ]
  },
  {
   "cell_type": "code",
   "execution_count": 4,
   "metadata": {},
   "outputs": [
    {
     "data": {
      "text/plain": [
       "False    11861\n",
       "True      9049\n",
       "Name: count, dtype: int64"
      ]
     },
     "execution_count": 4,
     "metadata": {},
     "output_type": "execute_result"
    }
   ],
   "source": [
    "user_survey_2020.isna().stack().value_counts()"
   ]
  },
  {
   "cell_type": "code",
   "execution_count": 5,
   "metadata": {},
   "outputs": [
    {
     "data": {
      "text/plain": [
       "userId             0\n",
       "date               0\n",
       "amPm               0\n",
       "startInput         0\n",
       "endInput           0\n",
       "sleep            615\n",
       "sleepProblem     615\n",
       "dream            615\n",
       "amCondition      615\n",
       "amEmotion        615\n",
       "pmEmotion        615\n",
       "pmStress         615\n",
       "pmFatigue        615\n",
       "caffeine         948\n",
       "cAmount(ml)      948\n",
       "alcohol         1116\n",
       "aAmount(ml)     1117\n",
       "dtype: int64"
      ]
     },
     "execution_count": 5,
     "metadata": {},
     "output_type": "execute_result"
    }
   ],
   "source": [
    "user_survey_2020.isna().sum()"
   ]
  },
  {
   "cell_type": "code",
   "execution_count": 6,
   "metadata": {},
   "outputs": [
    {
     "name": "stdout",
     "output_type": "stream",
     "text": [
      "[50, 100, 150, 180, 200, 250, 260, 280, 300, 330, 350, 355, 360, 400, 450, 473, 480, 500, 560, 600, 680, 700, 750, 900, 1000, 1500]\n"
     ]
    }
   ],
   "source": [
    "# caffeine\n",
    "unique_values = user_survey_2020['cAmount(ml)'].dropna().unique()\n",
    "\n",
    "# Convert to integers and sort\n",
    "sorted_values = sorted(int(value) for value in unique_values)\n",
    "\n",
    "# Display the sorted unique values\n",
    "print(sorted_values)"
   ]
  },
  {
   "cell_type": "code",
   "execution_count": 7,
   "metadata": {},
   "outputs": [
    {
     "name": "stdout",
     "output_type": "stream",
     "text": [
      "[80, 150, 200, 250, 300, 330, 350, 355, 400, 450, 500, 600, 680, 700, 720, 750, 800, 900, 1000, 1500, 2000, 3000, 3500, 4000, 5000, 7000, 20000]\n"
     ]
    }
   ],
   "source": [
    "# alcohol\n",
    "unique_values = user_survey_2020['aAmount(ml)'].dropna().unique()\n",
    "\n",
    "# Convert to integers and sort\n",
    "sorted_values = sorted(int(value) for value in unique_values)\n",
    "\n",
    "# Display the sorted unique values\n",
    "print(sorted_values)"
   ]
  },
  {
   "cell_type": "code",
   "execution_count": 8,
   "metadata": {},
   "outputs": [
    {
     "name": "stdout",
     "output_type": "stream",
     "text": [
      "sleep :  [ 4. nan  3.  2.  1.  5.]\n",
      "sleepProblem:  [ 0. nan  2.  1.  5.  3.  8.  7.  9.  4.  6.]\n",
      "dream :  [ 3. nan  2.  4.  1.]\n",
      "amCondition :  [ 3. nan  2.  4.  1.  5.]\n",
      "amEmotion :  [ 4. nan  3.  5.  2.  1.]\n",
      "pmEmotion :  [nan  4.  5.  3.  2.  1.]\n",
      "pmStress :  [nan  4.  5.  2.  1.  3.]\n",
      "pmFatigue  :  [nan  2.  4.  3.  1.  5.]\n",
      "caffeine  :  [nan 'coffee' 'tea' 'caffeinated drink' 'coke']\n",
      "cAmount(ml)  :  [  nan  200.  150.  100.  250.  300. 1000.  500. 1500.  750.  400.  180.\n",
      "  480.  280.  560.  260.  680.  600.  355.   50.  900.  350.  330.  700.\n",
      "  360.  450.  473.]\n",
      "alcohol :  [nan 'not specified' 'soju' 'beer' 'wine' 'soju&beer' 'wine&beer'\n",
      " 'kaoliang' 'cognac' 'beer&rice wine' 'rice wine']\n",
      "aAmount(ml)  :  [   nan   300.   500.  1000.   200.   350.   400.   700.   250.   800.\n",
      "  1500.   900.   720.   680.   600.   355.  3000. 20000.   450.   750.\n",
      "  2000.   150.    80.   330.  4000.  3500.  5000.  7000.]\n"
     ]
    }
   ],
   "source": [
    "print(\"sleep : \", user_survey_2020.sleep.unique())\n",
    "print(\"sleepProblem: \", user_survey_2020.sleepProblem.unique())\n",
    "print(\"dream : \", user_survey_2020.dream.unique())\n",
    "print(\"amCondition : \", user_survey_2020.amCondition.unique())\n",
    "print(\"amEmotion : \", user_survey_2020.amEmotion.unique())\n",
    "print(\"pmEmotion : \", user_survey_2020.pmEmotion.unique())\n",
    "print(\"pmStress : \", user_survey_2020.pmStress.unique())\n",
    "print(\"pmFatigue  : \", user_survey_2020.pmFatigue .unique())\n",
    "print(\"caffeine  : \", user_survey_2020.caffeine .unique())\n",
    "print(\"cAmount(ml)  : \", user_survey_2020['cAmount(ml)'].unique())\n",
    "print(\"alcohol : \", user_survey_2020.alcohol.unique())\n",
    "print(\"aAmount(ml)  : \", user_survey_2020['aAmount(ml)'].unique())\n"
   ]
  },
  {
   "cell_type": "code",
   "execution_count": 13,
   "metadata": {},
   "outputs": [
    {
     "name": "stdout",
     "output_type": "stream",
     "text": [
      "615\n",
      "615\n"
     ]
    }
   ],
   "source": [
    "print(user_survey_2020['sleep'].value_counts().sum())\n",
    "print(user_survey_2020['sleep'].isna().sum())\n"
   ]
  },
  {
   "cell_type": "code",
   "execution_count": 16,
   "metadata": {},
   "outputs": [
    {
     "name": "stdout",
     "output_type": "stream",
     "text": [
      "282\n",
      "948\n"
     ]
    }
   ],
   "source": [
    "print(user_survey_2020['cAmount(ml)'].value_counts().sum())\n",
    "print(user_survey_2020['cAmount(ml)'].isna().sum())"
   ]
  },
  {
   "cell_type": "code",
   "execution_count": 21,
   "metadata": {},
   "outputs": [
    {
     "name": "stdout",
     "output_type": "stream",
     "text": [
      "282\n",
      "caffeine\n",
      "coffee               256\n",
      "caffeinated drink     18\n",
      "tea                    4\n",
      "coke                   4\n",
      "Name: count, dtype: int64\n",
      "948\n"
     ]
    }
   ],
   "source": [
    "print(user_survey_2020['caffeine'].value_counts().sum())\n",
    "print(user_survey_2020['caffeine'].value_counts())\n",
    "print(user_survey_2020['caffeine'].isna().sum())"
   ]
  },
  {
   "cell_type": "code",
   "execution_count": 22,
   "metadata": {},
   "outputs": [
    {
     "name": "stdout",
     "output_type": "stream",
     "text": [
      "114\n",
      "alcohol\n",
      "beer              45\n",
      "soju              31\n",
      "not specified     21\n",
      "wine               6\n",
      "soju&beer          5\n",
      "kaoliang           2\n",
      "wine&beer          1\n",
      "cognac             1\n",
      "beer&rice wine     1\n",
      "rice wine          1\n",
      "Name: count, dtype: int64\n",
      "1116\n"
     ]
    }
   ],
   "source": [
    "print(user_survey_2020['alcohol'].value_counts().sum())\n",
    "print(user_survey_2020['alcohol'].value_counts())\n",
    "print(user_survey_2020['alcohol'].isna().sum())"
   ]
  },
  {
   "cell_type": "code",
   "execution_count": 29,
   "metadata": {},
   "outputs": [
    {
     "name": "stdout",
     "output_type": "stream",
     "text": [
      "113\n",
      "1117\n",
      "aAmount(ml)\n",
      "80.0        1\n",
      "150.0       1\n",
      "200.0       9\n",
      "250.0       1\n",
      "300.0      16\n",
      "330.0       2\n",
      "350.0       3\n",
      "355.0       2\n",
      "400.0       2\n",
      "450.0       1\n",
      "500.0      18\n",
      "600.0       3\n",
      "680.0       1\n",
      "700.0       1\n",
      "720.0       1\n",
      "750.0       1\n",
      "800.0       6\n",
      "900.0       2\n",
      "1000.0     20\n",
      "1500.0      7\n",
      "2000.0      4\n",
      "3000.0      4\n",
      "3500.0      2\n",
      "4000.0      2\n",
      "5000.0      1\n",
      "7000.0      1\n",
      "20000.0     1\n",
      "Name: count, dtype: int64\n"
     ]
    }
   ],
   "source": [
    "print(user_survey_2020['aAmount(ml)'].value_counts().sum())\n",
    "print(user_survey_2020['aAmount(ml)'].isna().sum())\n",
    "print(user_survey_2020['aAmount(ml)'].value_counts().sort_index())"
   ]
  },
  {
   "cell_type": "code",
   "execution_count": 20,
   "metadata": {},
   "outputs": [
    {
     "name": "stdout",
     "output_type": "stream",
     "text": [
      "615\n",
      "615\n"
     ]
    }
   ],
   "source": [
    "print(user_survey_2020['pmFatigue'].value_counts().sum())\n",
    "print(user_survey_2020['pmFatigue'].isna().sum())"
   ]
  },
  {
   "cell_type": "code",
   "execution_count": null,
   "metadata": {},
   "outputs": [],
   "source": []
  }
 ],
 "metadata": {
  "kernelspec": {
   "display_name": "etri",
   "language": "python",
   "name": "python3"
  },
  "language_info": {
   "codemirror_mode": {
    "name": "ipython",
    "version": 3
   },
   "file_extension": ".py",
   "mimetype": "text/x-python",
   "name": "python",
   "nbconvert_exporter": "python",
   "pygments_lexer": "ipython3",
   "version": "3.8.19"
  }
 },
 "nbformat": 4,
 "nbformat_minor": 2
}
